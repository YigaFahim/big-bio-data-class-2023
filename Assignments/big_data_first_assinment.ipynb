{
 "cells": [
  {
   "attachments": {},
   "cell_type": "markdown",
   "metadata": {},
   "source": [
    "# MSB7211 Big Bio-data analysis assignment\n",
    "#### Student name: Yiga Fahim\n",
    "#### Reg No: 2022/HD07/2054U\n",
    "#### Date: 29-MAR-2023"
   ]
  },
  {
   "attachments": {},
   "cell_type": "markdown",
   "metadata": {},
   "source": [
    "### **Qn1**. What is NumPy, and what are some of its key features?\n",
    "\n",
    "### **Ans.** \n",
    "NumPy (Numerical Python) is a popular Python library that provides support for numerical operations on multi-dimensional arrays and matrices. It is used for scientific computing, data analysis, and machine learning applications.\n",
    "\n",
    "### Key features\n",
    "1. Multi-dimensional arrays: NumPy provides a powerful and efficient array object, called ndarray, which can be used to store and manipulate multi-dimensional data. Ndarrays can be used to represent vectors, matrices, and tensors of various dimensions.\n",
    "\n",
    "2. Broadcasting: NumPy allows for element-wise operations between arrays of different shapes and sizes, by automatically broadcasting the smaller array to match the shape of the larger array.\n",
    "\n",
    "3. Vectorized operations: NumPy provides a set of functions that can be applied to entire arrays or selected elements, without the need for explicit looping.\n",
    "\n",
    "4. Mathematical functions: NumPy includes a wide range of mathematical functions, including trigonometric, logarithmic, and exponential functions, as well as functions for linear algebra and Fourier analysis.\n",
    "\n",
    "5. Performance: NumPy is optimized for performance, with most of its functions implemented in C or Fortran, which allows for efficient processing of large amounts of data.\n",
    "\n",
    "6. Integration with other libraries: NumPy can be easily integrated with other Python libraries, such as Pandas, Matplotlib, and Scikit-learn, which makes it a powerful tool for data analysis and machine learning applications."
   ]
  },
  {
   "attachments": {},
   "cell_type": "markdown",
   "metadata": {},
   "source": [
    "### **Qn2**. How do you create a NumPy array using Python's built-in range() function?\n",
    "### **Ans**."
   ]
  },
  {
   "cell_type": "code",
   "execution_count": 31,
   "metadata": {},
   "outputs": [
    {
     "name": "stdout",
     "output_type": "stream",
     "text": [
      "[0 1 2 3 4 5 6 7 8 9]\n"
     ]
    }
   ],
   "source": [
    "#loading the package\n",
    "import numpy as np\n",
    "\n",
    "# create a range object\n",
    "my_range = range(10)\n",
    "\n",
    "# convert the range object to a NumPy array\n",
    "my_array = np.array(my_range)\n",
    "\n",
    "# print the NumPy array\n",
    "print(my_array)"
   ]
  },
  {
   "attachments": {},
   "cell_type": "markdown",
   "metadata": {},
   "source": [
    "### **Qn3**. What is the difference between a scalar value and a vector in NumPy?\n",
    "### **Ans**.\n",
    "A scalar value is a single numerical value, such as an integer or a floating-point number, that is represented as a 0-dimensional NumPy array. A scalar value can be created using the np.array() function and passing in a single numerical value while a vector is a 1-dimensional array that represents a list of numerical values. A vector can be created using the np.array() function and passing in a list or tuple of numerical values. The main difference between a scalar value and a vector in NumPy is that a scalar is a 0-dimensional array that represents a single numerical value, while a vector is a 1-dimensional array that represents a list of numerical values."
   ]
  },
  {
   "attachments": {},
   "cell_type": "markdown",
   "metadata": {},
   "source": [
    "#### Scalar value"
   ]
  },
  {
   "cell_type": "code",
   "execution_count": 32,
   "metadata": {},
   "outputs": [
    {
     "name": "stdout",
     "output_type": "stream",
     "text": [
      "5\n",
      "()\n"
     ]
    }
   ],
   "source": [
    "# create a scalar value\n",
    "my_scalar = np.array(5)\n",
    "\n",
    "# print the scalar value and its shape\n",
    "print(my_scalar)\n",
    "print(my_scalar.shape)"
   ]
  },
  {
   "attachments": {},
   "cell_type": "markdown",
   "metadata": {},
   "source": [
    "#### Vector"
   ]
  },
  {
   "cell_type": "code",
   "execution_count": 33,
   "metadata": {},
   "outputs": [
    {
     "name": "stdout",
     "output_type": "stream",
     "text": [
      "[1 2 3]\n",
      "(3,)\n"
     ]
    }
   ],
   "source": [
    "# create a vector\n",
    "my_vector = np.array([1, 2, 3])\n",
    "\n",
    "# print the vector and its shape\n",
    "print(my_vector)\n",
    "print(my_vector.shape)"
   ]
  },
  {
   "attachments": {},
   "cell_type": "markdown",
   "metadata": {},
   "source": [
    "### **Qn4**. How do you calculate the mean of a NumPy array using the mean() function?\n",
    "### **Ans**."
   ]
  },
  {
   "cell_type": "code",
   "execution_count": 34,
   "metadata": {},
   "outputs": [
    {
     "name": "stdout",
     "output_type": "stream",
     "text": [
      "3.0\n"
     ]
    }
   ],
   "source": [
    "# create a NumPy array\n",
    "my_array = np.array([1, 2, 3, 4, 5])\n",
    "\n",
    "# To calculate the mean of the array\n",
    "my_mean = np.mean(my_array)\n",
    "\n",
    "# print the mean\n",
    "print(my_mean)"
   ]
  },
  {
   "attachments": {},
   "cell_type": "markdown",
   "metadata": {},
   "source": [
    "### **Qn5**. What is broadcasting in NumPy, and how can it be useful?\n",
    "### **Ans**.\n",
    "Broadcasting is a powerful feature in NumPy that allows you to perform operations on arrays with different shapes and sizes. Broadcasting allows NumPy to perform element-wise operations on arrays of different shapes by extending or \"broadcasting\" one or more of the arrays to match the shape of the other array(s) involved in the operation. This means that you can perform arithmetic, logical, and other operations on arrays of different shapes and sizes, without having to manually reshape or duplicate arrays.\n",
    "\n",
    "Broadcasting follow these basic rules; If the arrays have different numbers of dimensions, the smaller array is broadcasted to the shape of the larger array by adding dimensions of size 1 at the beginning or end of the smaller array, If the arrays have the same number of dimensions, but their sizes do not match along a particular dimension, the array with size 1 is broadcasted along that dimension to match the size of the other array, If the first 2 two rules cant apply, a ValueError is raised.\n",
    "\n",
    "Broadcasting can be useful in, performing element-wise operations on arrays with different shapes and sizes, adding a scalar value to an array, acaling an array by a scalar value, applying a function to an array element-wise, where the function takes a scalar argument.\n"
   ]
  },
  {
   "attachments": {},
   "cell_type": "markdown",
   "metadata": {},
   "source": [
    "##### foreaxmple"
   ]
  },
  {
   "cell_type": "code",
   "execution_count": 35,
   "metadata": {},
   "outputs": [
    {
     "name": "stdout",
     "output_type": "stream",
     "text": [
      "[[11 22 33]\n",
      " [14 25 36]]\n"
     ]
    }
   ],
   "source": [
    "# create two arrays with different shapes\n",
    "x = np.array([[1, 2, 3], [4, 5, 6]])\n",
    "y = np.array([10, 20, 30])\n",
    "\n",
    "# add the arrays using broadcasting\n",
    "z = x + y\n",
    "\n",
    "# print the result\n",
    "print(z)"
   ]
  },
  {
   "attachments": {},
   "cell_type": "markdown",
   "metadata": {},
   "source": [
    "Here allows us to perform the element-wise addition of x and y, even though they have different shapes. Broadcasting makes it possible to write more concise and readable code, without having to manually reshape or duplicate arrays."
   ]
  },
  {
   "attachments": {},
   "cell_type": "markdown",
   "metadata": {},
   "source": [
    "### **Qn6**. How do you create a 2D array in NumPy using Python's built-in list of lists?\n",
    "### **Ans**. \n",
    "Using the **np.array() ** function"
   ]
  },
  {
   "cell_type": "code",
   "execution_count": 36,
   "metadata": {},
   "outputs": [
    {
     "name": "stdout",
     "output_type": "stream",
     "text": [
      "[[1 2 3]\n",
      " [4 5 6]\n",
      " [7 8 9]]\n"
     ]
    }
   ],
   "source": [
    "# create a list of lists\n",
    "my_list = [[1, 2, 3], [4, 5, 6], [7, 8, 9]]\n",
    "\n",
    "# create a 2D array from the list of lists\n",
    "my_array = np.array(my_list)\n",
    "\n",
    "# print the array\n",
    "print(my_array)"
   ]
  },
  {
   "attachments": {},
   "cell_type": "markdown",
   "metadata": {},
   "source": [
    "#### Or"
   ]
  },
  {
   "cell_type": "code",
   "execution_count": 39,
   "metadata": {},
   "outputs": [
    {
     "name": "stdout",
     "output_type": "stream",
     "text": [
      "[[1 2 3]\n",
      " [4 5 6]\n",
      " [7 8 9]]\n"
     ]
    }
   ],
   "source": [
    "my_array = np.array([[1, 2, 3], [4, 5, 6], [7, 8, 9]])\n",
    "print(my_array)"
   ]
  },
  {
   "attachments": {},
   "cell_type": "markdown",
   "metadata": {},
   "source": [
    "### **Qn7**. How can you slice a NumPy array to extract a subarray?\n",
    "### **Ans**. \n",
    "You can slice a NumPy array to extract a subarray using the indexing notation array[start:stop:step], where start is the index of the first element of the subarray, stop is the index of the last element plus one, and step is the stride between the elements. If any of these values are not specified, they default to the following:\n",
    "\n",
    "--'start': 0\n",
    "\n",
    "--'stop': size of the corresponding dimension\n",
    "\n",
    "--'step': 1"
   ]
  },
  {
   "attachments": {},
   "cell_type": "markdown",
   "metadata": {},
   "source": [
    "##### foreaxmple"
   ]
  },
  {
   "cell_type": "code",
   "execution_count": 41,
   "metadata": {},
   "outputs": [
    {
     "name": "stdout",
     "output_type": "stream",
     "text": [
      "[[2 3]\n",
      " [5 6]]\n"
     ]
    }
   ],
   "source": [
    "#create a 2D array\n",
    "my_array = np.array([[1, 2, 3], [4, 5, 6], [7, 8, 9]])\n",
    "\n",
    "# extract a subarray using slicing\n",
    "sub_array = my_array[0:2, 1:3]\n",
    "\n",
    "# print the subarray\n",
    "print(sub_array)"
   ]
  },
  {
   "attachments": {},
   "cell_type": "markdown",
   "metadata": {},
   "source": [
    "### **Qn8**. What are some of the available functions for performing element-wise operations on NumPy arrays?\n",
    "### **Ans**. \n",
    "\n",
    "--'np.add()': element-wise addition of two arrays.\n",
    "\n",
    "--'np.subtract()': element-wise subtraction of two arrays.\n",
    "\n",
    "--'np.multiply()': element-wise multiplication of two arrays.\n",
    "\n",
    "--'np.divide()': element-wise division of two arrays.\n",
    "\n",
    "--'np.power()': element-wise exponentiation of an array to a given power.\n",
    "\n",
    "--'np.sqrt()': element-wise square root of an array.\n",
    "\n",
    "--'np.exp()': element-wise exponential function of an array.\n",
    "\n",
    "--'np.log()': element-wise natural logarithm of an array.\n",
    "\n",
    "--'np.abs()': element-wise absolute value of an array.\n",
    "\n",
    "--'np.sin()': element-wise sine of an array."
   ]
  },
  {
   "attachments": {},
   "cell_type": "markdown",
   "metadata": {},
   "source": [
    "### **Qn9**. How do you reshape a NumPy array to have a different shape?\n",
    "### **Ans**. \n",
    "You can reshape a NumPy array to have a different shape using the 'reshape()' function. \n",
    "\n",
    "**Syntax-** new_array = old_array.reshape(new_shape)"
   ]
  },
  {
   "attachments": {},
   "cell_type": "markdown",
   "metadata": {},
   "source": [
    "##### foreaxmple"
   ]
  },
  {
   "cell_type": "code",
   "execution_count": 43,
   "metadata": {},
   "outputs": [
    {
     "name": "stdout",
     "output_type": "stream",
     "text": [
      "[[1 2 3]\n",
      " [4 5 6]]\n"
     ]
    }
   ],
   "source": [
    "my_array = np.array([[1, 2, 3], [4, 5, 6]])\n",
    "print(my_array)"
   ]
  },
  {
   "cell_type": "code",
   "execution_count": 44,
   "metadata": {},
   "outputs": [
    {
     "name": "stdout",
     "output_type": "stream",
     "text": [
      "[[1 2]\n",
      " [3 4]\n",
      " [5 6]]\n"
     ]
    }
   ],
   "source": [
    "new_array = my_array.reshape((3, 2))\n",
    "print(new_array)"
   ]
  },
  {
   "attachments": {},
   "cell_type": "markdown",
   "metadata": {},
   "source": [
    "### **Qn10**. How do you perform matrix multiplication on two NumPy arrays using the dot() function?\n",
    "### **Ans**. \n",
    "**Syntax**- result = np.dot(array1, array2)"
   ]
  },
  {
   "attachments": {},
   "cell_type": "markdown",
   "metadata": {},
   "source": [
    "##### foreaxmple"
   ]
  },
  {
   "cell_type": "code",
   "execution_count": 48,
   "metadata": {},
   "outputs": [
    {
     "name": "stdout",
     "output_type": "stream",
     "text": [
      "[[ 25  28]\n",
      " [ 57  64]\n",
      " [ 89 100]]\n"
     ]
    }
   ],
   "source": [
    "array1 = np.array([[1, 2], [3, 4], [5, 6]])\n",
    "array2 = np.array([[7, 8], [9, 10]])\n",
    "result = np.dot(array1, array2)\n",
    "print(result)"
   ]
  },
  {
   "cell_type": "code",
   "execution_count": null,
   "metadata": {},
   "outputs": [],
   "source": [
    "### **Qn11**. How can you use the where() function to apply a condition to a NumPy array?\n",
    "### **Ans**. "
   ]
  }
 ],
 "metadata": {
  "kernelspec": {
   "display_name": "Python 3",
   "language": "python",
   "name": "python3"
  },
  "language_info": {
   "codemirror_mode": {
    "name": "ipython",
    "version": 3
   },
   "file_extension": ".py",
   "mimetype": "text/x-python",
   "name": "python",
   "nbconvert_exporter": "python",
   "pygments_lexer": "ipython3",
   "version": "3.11.2"
  },
  "orig_nbformat": 4
 },
 "nbformat": 4,
 "nbformat_minor": 2
}
